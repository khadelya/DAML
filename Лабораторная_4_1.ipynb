{
  "nbformat": 4,
  "nbformat_minor": 0,
  "metadata": {
    "colab": {
      "provenance": [],
      "collapsed_sections": []
    },
    "kernelspec": {
      "name": "python3",
      "display_name": "Python 3"
    },
    "language_info": {
      "name": "python"
    }
  },
  "cells": [
    {
      "cell_type": "markdown",
      "source": [
        "1. Создать класс VacancyList, состоящий из полей area,id,name,salary. Поле area содержит список названий регионов публикации вакансий, id - список id вакансий, name - список названий вакансий, salary - список средних зарплат.\n",
        "2. Определить метод fill(area=1,text='Meнеджер'), заполняющий объект этого класса 100 вакансиями из региона с кодом area, и текстом, содержащим text.\n",
        "3. Определить метод max_vacancy(), распечатывающий название вакансии с максимальной зарплатой\n",
        "4. Создать объект класса VacancyList, заполнить его вакансиями, и вывести название вакансии с максимальной зарплатой."
      ],
      "metadata": {
        "id": "fIwvM0PMu5Ty"
      }
    },
    {
      "cell_type": "code",
      "source": [
        "import requests\n",
        "import numpy as np"
      ],
      "metadata": {
        "id": "yvpFoicusV87"
      },
      "execution_count": null,
      "outputs": []
    },
    {
      "cell_type": "code",
      "source": [
        "def clean_salary(fn):\n",
        "      def wrp(arg):\n",
        "        result=fn(arg)\n",
        "        if (result is None) or (arg['salary']['gross'] is False):\n",
        "          return result\n",
        "        else:\n",
        "          result*=0.87\n",
        "          return result\n",
        "      return wrp\n",
        "\n",
        "@clean_salary\n",
        "def get_salary(vacancy):\n",
        "  if(vacancy['salary']['from'] is not None) and (vacancy['salary']['to'] is not None):\n",
        "    return np.mean([vacancy['salary']['from'],vacancy['salary']['to']])\n",
        "  elif vacancy['salary']['from'] is not None:\n",
        "    return vacancy['salary']['from']\n",
        "  elif vacancy['salary']['to'] is not None:\n",
        "    return vacancy['salary']['to']\n",
        "  else:\n",
        "    return 0"
      ],
      "metadata": {
        "id": "-eOZ0S4YsfRU"
      },
      "execution_count": null,
      "outputs": []
    },
    {
      "cell_type": "code",
      "source": [
        "class VacancyList(object):\n",
        "  def __init__(self):\n",
        "    self.area=None\n",
        "    self.id=None\n",
        "    self.name=None\n",
        "    self.salary=None\n",
        "\n",
        "  def fill(self,area=1,text='Менеджер'):\n",
        "    url=f'https://api.hh.ru/vacancies?text={text}&area={area}&search_field=name&per_page=100'\n",
        "    data=requests.get(url).json()['items']\n",
        "    self.area=[x['area']['name'] for x in data]\n",
        "    self.id=[x['id'] for x in data]\n",
        "    self.name=[x['name'] for x in data]\n",
        "    self.salary=[get_salary(x) if x['salary'] is not None else 0 for x in data]\n",
        "\n",
        "  def max_vacancy(self):\n",
        "    print(self.name[self.salary.index(max(self.salary))])"
      ],
      "metadata": {
        "id": "ihDF5n-_sIHQ"
      },
      "execution_count": null,
      "outputs": []
    },
    {
      "cell_type": "code",
      "source": [
        "vl=VacancyList()\n",
        "vl.fill(2,'Разработчик')\n",
        "vl.name\n",
        "vl.max_vacancy()"
      ],
      "metadata": {
        "colab": {
          "base_uri": "https://localhost:8080/"
        },
        "id": "Ry7y5ubveKDI",
        "outputId": "944d83ab-578b-4aa5-c0dd-ba8d7e882970"
      },
      "execution_count": null,
      "outputs": [
        {
          "output_type": "stream",
          "name": "stdout",
          "text": [
            "C++ developer (Senior)\n"
          ]
        }
      ]
    },
    {
      "cell_type": "markdown",
      "source": [
        "1. Сделать класс VacancyList_M1 на основе исходного VacancyList, и перегрузить для него оператор +, так чтобы объекты VacancyList_M1 можно было складывать. При этом в получаемом объекте списки всех полей конкатенируются.\n",
        "2. Создать два объекта этого класса из Москвы и Санкт-Петербурка, и сложить их. Вывести список уникальных городов в полученном объекте."
      ],
      "metadata": {
        "id": "DsBEi54rkjWR"
      }
    },
    {
      "cell_type": "code",
      "source": [
        "class VacancyList_M1(VacancyList):\n",
        "  def __add__(self,other):\n",
        "    vacancies_total=VacancyList_M1()\n",
        "    vacancies_total.area=self.area+other.area\n",
        "    vacancies_total.id=self.id+other.id\n",
        "    vacancies_total.name=self.name+other.name\n",
        "    vacancies_total.salary=self.salary+other.salary\n",
        "    return vacancies_total\n"
      ],
      "metadata": {
        "id": "atG3DylrkdPy"
      },
      "execution_count": null,
      "outputs": []
    },
    {
      "cell_type": "code",
      "source": [
        "vl_msc=VacancyList_M1()\n",
        "vl_msc.fill(1,'Разработчик')\n",
        "vl_spb=VacancyList_M1()\n",
        "vl_spb.fill(2,'Разработчик')"
      ],
      "metadata": {
        "id": "QGoOmz1ohACb"
      },
      "execution_count": null,
      "outputs": []
    },
    {
      "cell_type": "code",
      "source": [
        "vl=vl_msc+vl_spb\n",
        "set(vl.area)"
      ],
      "metadata": {
        "colab": {
          "base_uri": "https://localhost:8080/"
        },
        "id": "mPt_aOQqm0mB",
        "outputId": "aa7b5626-c1d4-4e7f-916e-a8d6fe133bfd"
      },
      "execution_count": null,
      "outputs": [
        {
          "output_type": "execute_result",
          "data": {
            "text/plain": [
              "{'Москва', 'Санкт-Петербург'}"
            ]
          },
          "metadata": {},
          "execution_count": 9
        }
      ]
    },
    {
      "cell_type": "code",
      "source": [
        "dir(vl_msc);"
      ],
      "metadata": {
        "id": "PeQAKDxbnYkz"
      },
      "execution_count": null,
      "outputs": []
    },
    {
      "cell_type": "markdown",
      "source": [
        "Создать класс VacancyList_M2 на основе исходного VacancyList, и перегрузить для него оператор getitem, так чтобы по обращению к объекту по индексу возвращался кортеж из area,id,name,salary."
      ],
      "metadata": {
        "id": "TSak7ZMj6mn8"
      }
    },
    {
      "cell_type": "code",
      "source": [
        "class VacancyList_M2(VacancyList):\n",
        "\n",
        "  def __getitem__(self,key):\n",
        "    return (self.area[key],self.id[key],self.name[key],self.salary[key])"
      ],
      "metadata": {
        "id": "cU638JgB7Dcj"
      },
      "execution_count": null,
      "outputs": []
    },
    {
      "cell_type": "code",
      "source": [
        "vlm2=VacancyList_M2()\n",
        "vlm2.fill()\n",
        "vlm2[3]"
      ],
      "metadata": {
        "colab": {
          "base_uri": "https://localhost:8080/"
        },
        "id": "evYhxsOt7wfx",
        "outputId": "5e292ae1-41c7-4aa2-ba35-b6c821405939"
      },
      "execution_count": null,
      "outputs": [
        {
          "output_type": "execute_result",
          "data": {
            "text/plain": [
              "('Москва', '71325711', 'Менеджер по продажам', 220000.0)"
            ]
          },
          "metadata": {},
          "execution_count": 12
        }
      ]
    },
    {
      "cell_type": "markdown",
      "source": [
        "Cделать класс VacancyList_M3 на основе множественного наследования от VacancyList_M1 и VacancyList_M3. Создать два объекта этого класса и заполнить их вакансиями Москвы и Санкт-Петербурга. Сложить из них новый объект и вывести его значение для индекса = 110."
      ],
      "metadata": {
        "id": "A18r5dz88qR7"
      }
    },
    {
      "cell_type": "code",
      "source": [
        "class VacancyList_M3(VacancyList_M2,VacancyList_M1):\n",
        "  def __add__(self,other):\n",
        "    vacancies_total=VacancyList_M3()\n",
        "    vacancies_total.area=self.area+other.area\n",
        "    vacancies_total.id=self.id+other.id\n",
        "    vacancies_total.name=self.name+other.name\n",
        "    vacancies_total.salary=self.salary+other.salary\n",
        "    return vacancies_total"
      ],
      "metadata": {
        "id": "B4CYu5DI9C0B"
      },
      "execution_count": null,
      "outputs": []
    },
    {
      "cell_type": "code",
      "source": [
        "vl3=VacancyList_M3()\n",
        "vl3.fill(1)\n",
        "vl4=VacancyList_M3()\n",
        "vl4.fill(2)\n",
        "vl5=vl3+vl4\n",
        "vl5[110]"
      ],
      "metadata": {
        "colab": {
          "base_uri": "https://localhost:8080/"
        },
        "id": "__SUQsym9SS6",
        "outputId": "9c6795fe-4443-4d8a-bbfa-f5b9f36934a8"
      },
      "execution_count": null,
      "outputs": [
        {
          "output_type": "execute_result",
          "data": {
            "text/plain": [
              "('Санкт-Петербург',\n",
              " '71326806',\n",
              " 'Ведущий менеджер по продажам (без поиска)',\n",
              " 250000.0)"
            ]
          },
          "metadata": {},
          "execution_count": 24
        }
      ]
    },
    {
      "cell_type": "markdown",
      "source": [
        "Сделать функцию получения списка вакансий по 100 штук, по заданному коду area и названию text. Сделать декоратор, позволяющий вызывать эту функцию 5 раз."
      ],
      "metadata": {
        "id": "BjUEtSL8Aqbb"
      }
    },
    {
      "cell_type": "code",
      "source": [
        "def call_5_times(fn):\n",
        "  def wrp(*args,**kwargs):\n",
        "    result=[]\n",
        "    for i in range(5):\n",
        "      result+=fn(i)\n",
        "    return result\n",
        "  return wrp\n",
        "\n",
        "@call_5_times\n",
        "def get_vacancies(i=0,area=1,text='Менеджер'):\n",
        "    url=f'https://api.hh.ru/vacancies?text={text}&area={area}&search_field=name&per_page=100&page={i}'\n",
        "    data=requests.get(url).json()['items']\n",
        "    return data\n",
        "\n",
        "vacancies=get_vacancies()\n",
        "print(len(set([x['id'] for x in vacancies])))"
      ],
      "metadata": {
        "colab": {
          "base_uri": "https://localhost:8080/"
        },
        "id": "Rsha_yAcC61P",
        "outputId": "fae53224-8ffa-4996-d8ca-1e14928af5ce"
      },
      "execution_count": null,
      "outputs": [
        {
          "output_type": "stream",
          "name": "stdout",
          "text": [
            "500\n"
          ]
        }
      ]
    }
  ]
}